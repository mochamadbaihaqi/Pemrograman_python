{
  "nbformat": 4,
  "nbformat_minor": 0,
  "metadata": {
    "colab": {
      "name": "pythonming12.ipynb",
      "provenance": [],
      "authorship_tag": "ABX9TyM91vyTPWOk2TE1AU4W92KA",
      "include_colab_link": true
    },
    "kernelspec": {
      "name": "python3",
      "display_name": "Python 3"
    }
  },
  "cells": [
    {
      "cell_type": "markdown",
      "metadata": {
        "id": "view-in-github",
        "colab_type": "text"
      },
      "source": [
        "<a href=\"https://colab.research.google.com/github/mochamadbaihaqi/Pemrograman_python/blob/main/Tugas_12_Python.ipynb\" target=\"_parent\"><img src=\"https://colab.research.google.com/assets/colab-badge.svg\" alt=\"Open In Colab\"/></a>"
      ]
    },
    {
      "cell_type": "code",
      "metadata": {
        "id": "oL6mevhrNQ50"
      },
      "source": [
        "import numpy as np"
      ],
      "execution_count": 33,
      "outputs": []
    },
    {
      "cell_type": "code",
      "metadata": {
        "id": "jD21HtdbNiTx"
      },
      "source": [
        "def C1(x) : \r\n",
        "    if x >= 400 and x <= 1500 :\r\n",
        "        return 69.55\r\n",
        "    elif x > 1500 and x <= 2000 :\r\n",
        "        return 46.3"
      ],
      "execution_count": 34,
      "outputs": []
    },
    {
      "cell_type": "code",
      "metadata": {
        "colab": {
          "base_uri": "https://localhost:8080/"
        },
        "id": "iqfaj0hzNnP4",
        "outputId": "d96e8bce-619e-46a0-b5a1-4739091c490c"
      },
      "source": [
        "pc1=C1(500)\r\n",
        "print(pc1)"
      ],
      "execution_count": 35,
      "outputs": [
        {
          "output_type": "stream",
          "text": [
            "69.55\n"
          ],
          "name": "stdout"
        }
      ]
    },
    {
      "cell_type": "code",
      "metadata": {
        "id": "cXem9vVyNwJo"
      },
      "source": [
        "def C2(x) : \r\n",
        "    if x >= 400 and x <= 1500 :\r\n",
        "        return 26.16\r\n",
        "    elif x > 1500 and x <= 2000 :\r\n",
        "        return 33.9"
      ],
      "execution_count": 36,
      "outputs": []
    },
    {
      "cell_type": "code",
      "metadata": {
        "colab": {
          "base_uri": "https://localhost:8080/"
        },
        "id": "CSS_zwiqNxZ3",
        "outputId": "a6a763f9-7421-4a18-b821-9bfcd99f85ab"
      },
      "source": [
        "pc2=C2(500)\r\n",
        "print(pc2)"
      ],
      "execution_count": 37,
      "outputs": [
        {
          "output_type": "stream",
          "text": [
            "26.16\n"
          ],
          "name": "stdout"
        }
      ]
    },
    {
      "cell_type": "code",
      "metadata": {
        "id": "PJ_8lZUXN7Xh"
      },
      "source": [
        "def a(x, y) : \r\n",
        "    return (((1.1*np.log10(y))-0.7)*x) - ((1.56*np.log10(y))-0.8)"
      ],
      "execution_count": 38,
      "outputs": []
    },
    {
      "cell_type": "code",
      "metadata": {
        "colab": {
          "base_uri": "https://localhost:8080/"
        },
        "id": "aYHvDujrN8yY",
        "outputId": "257950f4-def4-417c-e094-a87ec9be591d"
      },
      "source": [
        "pa=a(50,50)\r\n",
        "print(pa)"
      ],
      "execution_count": 39,
      "outputs": [
        {
          "output_type": "stream",
          "text": [
            "56.59295703171685\n"
          ],
          "name": "stdout"
        }
      ]
    },
    {
      "cell_type": "code",
      "metadata": {
        "id": "xTfTisPBOCzP"
      },
      "source": [
        "def Cm(type, y) : \r\n",
        "    if type == 1 :\r\n",
        "        return 0\r\n",
        "    elif type == 2 :\r\n",
        "        return (-2*((np.log10(y/28))**2))-54\r\n",
        "    else :\r\n",
        "        return (-4.78*((np.log10(y))**2))+(18.33*np.log10(y))-40.94"
      ],
      "execution_count": 40,
      "outputs": []
    },
    {
      "cell_type": "code",
      "metadata": {
        "colab": {
          "base_uri": "https://localhost:8080/"
        },
        "id": "JIsFodCXOGXv",
        "outputId": "5e8b7744-b7da-44eb-e31e-c51a0026c584"
      },
      "source": [
        "pcm=Cm(3,25)\r\n",
        "print(pcm) "
      ],
      "execution_count": 41,
      "outputs": [
        {
          "output_type": "stream",
          "text": [
            "-24.65700900134532\n"
          ],
          "name": "stdout"
        }
      ]
    },
    {
      "cell_type": "code",
      "metadata": {
        "id": "rsLtUoyrSy0R"
      },
      "source": [
        "def PathLoss(d,f,Type_Cm,hT,hR) :\r\n",
        "  return C1(f)+(C2(f)*np.log10(f))-(13.83*np.log10(hT))-a(hR, f)+((44.9-(6.55*np.log10(hT)))*np.log10(d))+Cm(Type_Cm, f)"
      ],
      "execution_count": 42,
      "outputs": []
    },
    {
      "cell_type": "code",
      "metadata": {
        "colab": {
          "base_uri": "https://localhost:8080/"
        },
        "id": "YnBGfooiTU6I",
        "outputId": "8985d1a9-a860-4ddc-b989-c1013404d88c"
      },
      "source": [
        "PL=PathLoss(5,700,1,30,30)\r\n",
        "print(PL)"
      ],
      "execution_count": 43,
      "outputs": [
        {
          "output_type": "stream",
          "text": [
            "78.92041299434274\n"
          ],
          "name": "stdout"
        }
      ]
    },
    {
      "cell_type": "markdown",
      "metadata": {
        "id": "K19WqGB6UsXP"
      },
      "source": [
        "SHANNON CAPACITY"
      ]
    }
  ]
}